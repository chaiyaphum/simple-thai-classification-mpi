{
 "cells": [
  {
   "cell_type": "code",
   "execution_count": 1,
   "metadata": {},
   "outputs": [
    {
     "name": "stderr",
     "output_type": "stream",
     "text": [
      "Using TensorFlow backend.\n"
     ]
    }
   ],
   "source": [
    "import pandas as pd\n",
    "import io\n",
    "import deepcut\n",
    "from io import StringIO\n",
    "\n",
    "from scipy import sparse\n",
    "import pickle\n",
    "import numpy as np\n",
    "\n",
    "from sklearn.feature_extraction.text import TfidfVectorizer\n",
    "from sklearn.model_selection import train_test_split\n",
    "from sklearn.feature_extraction.text import CountVectorizer\n",
    "from sklearn.feature_extraction.text import TfidfTransformer\n",
    "import seaborn as sns\n",
    "\n",
    "from sklearn.naive_bayes import MultinomialNB\n",
    "from sklearn.svm import LinearSVC\n",
    "\n",
    "from sklearn.externals import joblib"
   ]
  },
  {
   "cell_type": "code",
   "execution_count": 2,
   "metadata": {},
   "outputs": [],
   "source": [
    "stopwords = open('data/stopwords-th_new.txt', 'r', encoding=\"utf8\").read().split()"
   ]
  },
  {
   "cell_type": "code",
   "execution_count": 3,
   "metadata": {},
   "outputs": [],
   "source": [
    "_text_input = 'ส่วนตัวจะดาวดให้มากที่สุดเท่าที่จะทำได้เเล้วส่งเเบบไม่ต้องกังวลส่งสบายๆเพราะดาวน้อยดอกเบี้ยบานครับเพราะถ้าซื้อเเบบคนทั่วไปบ้านราคา47ล้านเเบบไม่มีดาวหรือดาวน้อยเจอดอกเบี้ยกว่าจะส่งหมดดีไม่ดีเกือบ10ล้านมีทรัพทยสินขนาดนี้ซื้อบ้านราคาขนาดนี้ซื้อได้เเน่ครับ'"
   ]
  },
  {
   "cell_type": "code",
   "execution_count": 4,
   "metadata": {},
   "outputs": [
    {
     "name": "stdout",
     "output_type": "stream",
     "text": [
      "WARNING:tensorflow:From C:\\ProgramData\\Anaconda3\\envs\\tu\\lib\\site-packages\\tensorflow\\python\\framework\\op_def_library.py:263: colocate_with (from tensorflow.python.framework.ops) is deprecated and will be removed in a future version.\n",
      "Instructions for updating:\n",
      "Colocations handled automatically by placer.\n",
      "WARNING:tensorflow:From C:\\ProgramData\\Anaconda3\\envs\\tu\\lib\\site-packages\\keras\\backend\\tensorflow_backend.py:3445: calling dropout (from tensorflow.python.ops.nn_ops) with keep_prob is deprecated and will be removed in a future version.\n",
      "Instructions for updating:\n",
      "Please use `rate` instead of `keep_prob`. Rate should be set to `rate = 1 - keep_prob`.\n"
     ]
    }
   ],
   "source": [
    "_text_wordcut = ','.join(deepcut.tokenize(_text_input))"
   ]
  },
  {
   "cell_type": "code",
   "execution_count": 5,
   "metadata": {},
   "outputs": [
    {
     "data": {
      "text/plain": [
       "'ส่วน,ตัว,จะ,ดาวด,ให้,มาก,ที่สุด,เท่า,ที่,จะ,ทำ,ได้,เเล้ว,ส่งเเบบ,ไม่,ต้อง,กังวล,ส่ง,สบาย,ๆ,เพราะ,ดาว,น้อย,ดอกเบี้ย,บาน,ครับ,เพราะ,ถ้า,ซื้อ,เเบบ,คน,ทั่วไป,บ้าน,ราคา,47,ล้าน,เเบบ,ไม่,มี,ดาว,หรือ,ดาว,น้อย,เจอ,ดอกเบี้ย,กว่า,จะ,ส่ง,หมด,ดี,ไม่,ดี,เกือบ,10,ล้าน,มี,ทรัพทยสิน,ขนาด,นี้,ซื้อ,บ้าน,ราคา,ขนาด,นี้,ซื้อ,ได้,เเน่,ครับ'"
      ]
     },
     "execution_count": 5,
     "metadata": {},
     "output_type": "execute_result"
    }
   ],
   "source": [
    "_text_wordcut"
   ]
  },
  {
   "cell_type": "code",
   "execution_count": null,
   "metadata": {},
   "outputs": [],
   "source": [
    "# vec_train = _TfidfVectorizer.fit(df.Column3)\n",
    "# pickle.dump(vec_train, open(\"finalized_tfidftransformer.pkl\", \"wb\"))"
   ]
  },
  {
   "cell_type": "code",
   "execution_count": 9,
   "metadata": {},
   "outputs": [],
   "source": [
    "loaded_tfidf_transformer = joblib.load(\"finalized_tfidftransformer.pkl\")"
   ]
  },
  {
   "cell_type": "code",
   "execution_count": 10,
   "metadata": {},
   "outputs": [],
   "source": [
    "X_val_tfidf = loaded_tfidf_transformer.transform([_text_wordcut])"
   ]
  },
  {
   "cell_type": "code",
   "execution_count": 11,
   "metadata": {},
   "outputs": [
    {
     "data": {
      "text/plain": [
       "(1, 604322)"
      ]
     },
     "execution_count": 11,
     "metadata": {},
     "output_type": "execute_result"
    }
   ],
   "source": [
    "X_val_tfidf.shape"
   ]
  },
  {
   "cell_type": "code",
   "execution_count": 13,
   "metadata": {},
   "outputs": [],
   "source": [
    "def tokenize_text_list(ls):\n",
    "    print(ls)\n",
    "    t=''.join(ls).strip()\n",
    "    temp =t.split(\",\")\n",
    "    \n",
    "    markeredtext= []\n",
    "    for word in temp:\n",
    "        if word not in stopwords and word.strip():\n",
    "            markeredtext.append(word)\n",
    "    \n",
    "    return \" \".join(markeredtext)"
   ]
  },
  {
   "cell_type": "code",
   "execution_count": 14,
   "metadata": {},
   "outputs": [
    {
     "name": "stdout",
     "output_type": "stream",
     "text": [
      "ส่วน,ตัว,จะ,ดาวด,ให้,มาก,ที่สุด,เท่า,ที่,จะ,ทำ,ได้,เเล้ว,ส่งเเบบ,ไม่,ต้อง,กังวล,ส่ง,สบาย,ๆ,เพราะ,ดาว,น้อย,ดอกเบี้ย,บาน,ครับ,เพราะ,ถ้า,ซื้อ,เเบบ,คน,ทั่วไป,บ้าน,ราคา,47,ล้าน,เเบบ,ไม่,มี,ดาว,หรือ,ดาว,น้อย,เจอ,ดอกเบี้ย,กว่า,จะ,ส่ง,หมด,ดี,ไม่,ดี,เกือบ,10,ล้าน,มี,ทรัพทยสิน,ขนาด,นี้,ซื้อ,บ้าน,ราคา,ขนาด,นี้,ซื้อ,ได้,เเน่,ครับ\n"
     ]
    }
   ],
   "source": [
    "_text_wordcut = tokenize_text_list(_text_wordcut)"
   ]
  },
  {
   "cell_type": "code",
   "execution_count": 16,
   "metadata": {},
   "outputs": [],
   "source": [
    "model_fname = 'model/_finalized_model_svc_c_3.0.sav'\n",
    "\n",
    "loaded_model = joblib.load(open(model_fname, 'rb'))"
   ]
  },
  {
   "cell_type": "code",
   "execution_count": 17,
   "metadata": {},
   "outputs": [],
   "source": [
    "y_pred = loaded_model.predict(X_val_tfidf)"
   ]
  },
  {
   "cell_type": "code",
   "execution_count": 18,
   "metadata": {},
   "outputs": [
    {
     "data": {
      "text/plain": [
       "array(['ความเป็นอยู่'], dtype=object)"
      ]
     },
     "execution_count": 18,
     "metadata": {},
     "output_type": "execute_result"
    }
   ],
   "source": [
    "y_pred"
   ]
  }
 ],
 "metadata": {
  "kernelspec": {
   "display_name": "Python 3",
   "language": "python",
   "name": "python3"
  },
  "language_info": {
   "codemirror_mode": {
    "name": "ipython",
    "version": 3
   },
   "file_extension": ".py",
   "mimetype": "text/x-python",
   "name": "python",
   "nbconvert_exporter": "python",
   "pygments_lexer": "ipython3",
   "version": "3.6.8"
  }
 },
 "nbformat": 4,
 "nbformat_minor": 2
}
